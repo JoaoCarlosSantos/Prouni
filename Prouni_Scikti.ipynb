{
 "cells": [
  {
   "cell_type": "markdown",
   "metadata": {},
   "source": [
    "# <font color='blue'>Análise dos dados do Prouni</font>"
   ]
  },
  {
   "cell_type": "code",
   "execution_count": 496,
   "metadata": {},
   "outputs": [],
   "source": [
    "#Importação das Bibliotecas \n",
    "import pandas as pd\n",
    "import numpy as np\n",
    "import matplotlib.pyplot as plt\n",
    "import statsmodels.api as sm\n",
    "from scipy import stats\n",
    "from sklearn.linear_model import LinearRegression\n",
    "import warnings\n",
    "warnings.filterwarnings('ignore')"
   ]
  },
  {
   "cell_type": "markdown",
   "metadata": {},
   "source": [
    "## Importação das bases do Prouni"
   ]
  },
  {
   "cell_type": "code",
   "execution_count": 498,
   "metadata": {},
   "outputs": [
    {
     "data": {
      "text/plain": [
       "(1878099, 15)"
      ]
     },
     "execution_count": 498,
     "metadata": {},
     "output_type": "execute_result"
    }
   ],
   "source": [
    "# Carga do DataSet de2018\n",
    "# df_2018 = pd.read_csv('/media/joao/DATA/TCE/Bases/Prouni_2018.csv', sep=',') #Linux\n",
    "\n",
    "df_2018 = pd.read_csv('Bases/Prouni_2018.csv', sep=';') #Windows \n",
    "# df_2018.head() \n",
    "# df_2018.shape\n",
    "\n",
    "df_2017 = pd.read_csv('Bases/Prouni_2017.csv', sep=';') #Windows \n",
    "# df_2017.head() \n",
    "# df_2017.shape\n",
    "\n",
    "df_2016 = pd.read_csv('Bases/Prouni_2016.csv', sep=';') #Windows \n",
    "# df_2016.head() \n",
    "# df_2016.shape\n",
    "\n",
    "df_2015 = pd.read_csv('Bases/Prouni_2015.csv', sep=';') #Windows \n",
    "# df_2015.head() \n",
    "# df_2015.shape\n",
    "\n",
    "df_2014 = pd.read_csv('Bases/Prouni_2014.csv', sep=';') #Windows \n",
    "# df_2014.head() \n",
    "# df_2014.shape\n",
    "\n",
    "df_2013 = pd.read_csv('Bases/Prouni_2013.csv', sep=';') #Windows \n",
    "# df_2013.head() \n",
    "# df_2013.shape\n",
    "\n",
    "df_2012 = pd.read_csv('Bases/Prouni_2012.csv', sep=';') #Windows \n",
    "# df_2012.head() \n",
    "# df_2012.shape\n",
    "\n",
    "df_2011 = pd.read_csv('Bases/Prouni_2011.csv', sep=';') #Windows \n",
    "# df_2011.head() \n",
    "# df_2011.shape\n",
    "\n",
    "df_2010 = pd.read_csv('Bases/Prouni_2010.csv', sep=';') #Windows \n",
    "# df_2010.head() \n",
    "# df_2010.shape\n",
    "\n",
    "# df_2019 = pd.read_csv('Bases/Prouni_2009.csv', sep=';') #Windows \n",
    "# df_2009.head() \n",
    "# df_2009.shape\n",
    "\n",
    "df_municipios = pd.concat([df_2010, df_2011, df_2012, df_2013, \n",
    "                           df_2014, df_2015, df_2016, df_2017, df_2018])"
   ]
  },
  {
   "cell_type": "markdown",
   "metadata": {},
   "source": [
    "## Bolsas de Santos por ano "
   ]
  },
  {
   "cell_type": "code",
   "execution_count": 492,
   "metadata": {},
   "outputs": [
    {
     "data": {
      "text/plain": [
       "MUNICIPIO_BENEFICIARIO_BOLSA  ANO_CONCESSAO_BOLSA\n",
       "SANTOS                        2010                   284\n",
       "                              2011                   367\n",
       "                              2012                   377\n",
       "                              2013                   362\n",
       "                              2014                   476\n",
       "                              2015                   596\n",
       "                              2016                   630\n",
       "                              2017                   598\n",
       "                              2018                   455\n",
       "dtype: int64"
      ]
     },
     "execution_count": 492,
     "metadata": {},
     "output_type": "execute_result"
    }
   ],
   "source": [
    "df_santos = df_municipios[df_municipios.MUNICIPIO_BENEFICIARIO_BOLSA == \"SANTOS\"]\n",
    "df_santos_ano = df_santos.set_index(['MUNICIPIO_BENEFICIARIO_BOLSA','ANO_CONCESSAO_BOLSA'])\n",
    "df_santos_ano = df_santos_ano.groupby(level = ['MUNICIPIO_BENEFICIARIO_BOLSA', 'ANO_CONCESSAO_BOLSA'])\n",
    "df_santos_ano = df_santos_ano.size()  #Tamanho de cada Grupo \n",
    "df_santos_ano"
   ]
  },
  {
   "cell_type": "markdown",
   "metadata": {},
   "source": [
    "## Bolsas de Santos por ano e por curso"
   ]
  },
  {
   "cell_type": "code",
   "execution_count": 501,
   "metadata": {},
   "outputs": [
    {
     "data": {
      "text/plain": [
       "NOME_CURSO_BOLSA    ANO_CONCESSAO_BOLSA\n",
       "Direito             2016                   69\n",
       "Administração       2016                   61\n",
       "Direito             2015                   61\n",
       "Administração       2014                   58\n",
       "                    2015                   57\n",
       "                    2011                   56\n",
       "ADMINISTRAÇÃO       2018                   54\n",
       "DIREITO             2017                   53\n",
       "Administração       2012                   51\n",
       "ADMINISTRAÇÃO       2017                   45\n",
       "Administração       2013                   45\n",
       "DIREITO             2018                   44\n",
       "Direito             2014                   41\n",
       "Administração       2010                   39\n",
       "Comércio Exterior   2015                   36\n",
       "                    2014                   35\n",
       "                    2012                   33\n",
       "Engenharia Civil    2015                   31\n",
       "                    2014                   31\n",
       "Ciências Contábeis  2016                   30\n",
       "dtype: int64"
      ]
     },
     "execution_count": 501,
     "metadata": {},
     "output_type": "execute_result"
    }
   ],
   "source": [
    "#Subset dos dados por Curso e por ano\n",
    "df_curso_santos = df_santos.set_index(['NOME_CURSO_BOLSA','ANO_CONCESSAO_BOLSA'])\n",
    "df_curso_santos = df_curso_santos.groupby(level = ['NOME_CURSO_BOLSA', 'ANO_CONCESSAO_BOLSA'])\n",
    "df_curso_santos = df_curso_santos.size()           #Tamanho de cada Grupo \n",
    "df_curso_santos = df_curso_santos.sort_values(ascending = False)\n",
    "df_curso_santos.head(20) "
   ]
  },
  {
   "cell_type": "markdown",
   "metadata": {},
   "source": [
    "## Tratamento dos dados "
   ]
  },
  {
   "cell_type": "code",
   "execution_count": 502,
   "metadata": {},
   "outputs": [],
   "source": [
    "# Tratamento dos dados para correção de letras Maíusculas e Minúsculas \n",
    "\n",
    "df_curso_santos = pd.DataFrame(df_curso_santos) # Conversão para DataFrame para usar os métodos dos Pandas\n",
    "df_curso_santos = df_curso_santos.reset_index()"
   ]
  },
  {
   "cell_type": "code",
   "execution_count": 507,
   "metadata": {},
   "outputs": [
    {
     "data": {
      "text/html": [
       "<div>\n",
       "<style scoped>\n",
       "    .dataframe tbody tr th:only-of-type {\n",
       "        vertical-align: middle;\n",
       "    }\n",
       "\n",
       "    .dataframe tbody tr th {\n",
       "        vertical-align: top;\n",
       "    }\n",
       "\n",
       "    .dataframe thead th {\n",
       "        text-align: right;\n",
       "    }\n",
       "</style>\n",
       "<table border=\"1\" class=\"dataframe\">\n",
       "  <thead>\n",
       "    <tr style=\"text-align: right;\">\n",
       "      <th></th>\n",
       "      <th>CURSO</th>\n",
       "      <th>ANO</th>\n",
       "      <th>QUANTIDADE_BOLSAS</th>\n",
       "    </tr>\n",
       "  </thead>\n",
       "  <tbody>\n",
       "    <tr>\n",
       "      <th>0</th>\n",
       "      <td>DIREITO</td>\n",
       "      <td>2016</td>\n",
       "      <td>69</td>\n",
       "    </tr>\n",
       "    <tr>\n",
       "      <th>2</th>\n",
       "      <td>DIREITO</td>\n",
       "      <td>2015</td>\n",
       "      <td>61</td>\n",
       "    </tr>\n",
       "    <tr>\n",
       "      <th>1</th>\n",
       "      <td>ADMINISTRAÇÃO</td>\n",
       "      <td>2016</td>\n",
       "      <td>61</td>\n",
       "    </tr>\n",
       "    <tr>\n",
       "      <th>3</th>\n",
       "      <td>ADMINISTRAÇÃO</td>\n",
       "      <td>2014</td>\n",
       "      <td>58</td>\n",
       "    </tr>\n",
       "    <tr>\n",
       "      <th>4</th>\n",
       "      <td>ADMINISTRAÇÃO</td>\n",
       "      <td>2015</td>\n",
       "      <td>57</td>\n",
       "    </tr>\n",
       "    <tr>\n",
       "      <th>5</th>\n",
       "      <td>ADMINISTRAÇÃO</td>\n",
       "      <td>2011</td>\n",
       "      <td>56</td>\n",
       "    </tr>\n",
       "    <tr>\n",
       "      <th>6</th>\n",
       "      <td>ADMINISTRAÇÃO</td>\n",
       "      <td>2018</td>\n",
       "      <td>54</td>\n",
       "    </tr>\n",
       "    <tr>\n",
       "      <th>7</th>\n",
       "      <td>DIREITO</td>\n",
       "      <td>2017</td>\n",
       "      <td>53</td>\n",
       "    </tr>\n",
       "    <tr>\n",
       "      <th>8</th>\n",
       "      <td>ADMINISTRAÇÃO</td>\n",
       "      <td>2012</td>\n",
       "      <td>51</td>\n",
       "    </tr>\n",
       "    <tr>\n",
       "      <th>9</th>\n",
       "      <td>ADMINISTRAÇÃO</td>\n",
       "      <td>2017</td>\n",
       "      <td>45</td>\n",
       "    </tr>\n",
       "    <tr>\n",
       "      <th>10</th>\n",
       "      <td>ADMINISTRAÇÃO</td>\n",
       "      <td>2013</td>\n",
       "      <td>45</td>\n",
       "    </tr>\n",
       "    <tr>\n",
       "      <th>11</th>\n",
       "      <td>DIREITO</td>\n",
       "      <td>2018</td>\n",
       "      <td>44</td>\n",
       "    </tr>\n",
       "    <tr>\n",
       "      <th>12</th>\n",
       "      <td>DIREITO</td>\n",
       "      <td>2014</td>\n",
       "      <td>41</td>\n",
       "    </tr>\n",
       "    <tr>\n",
       "      <th>13</th>\n",
       "      <td>ADMINISTRAÇÃO</td>\n",
       "      <td>2010</td>\n",
       "      <td>39</td>\n",
       "    </tr>\n",
       "    <tr>\n",
       "      <th>14</th>\n",
       "      <td>COMÉRCIO EXTERIOR</td>\n",
       "      <td>2015</td>\n",
       "      <td>36</td>\n",
       "    </tr>\n",
       "  </tbody>\n",
       "</table>\n",
       "</div>"
      ],
      "text/plain": [
       "                CURSO   ANO  QUANTIDADE_BOLSAS\n",
       "0             DIREITO  2016                 69\n",
       "2             DIREITO  2015                 61\n",
       "1       ADMINISTRAÇÃO  2016                 61\n",
       "3       ADMINISTRAÇÃO  2014                 58\n",
       "4       ADMINISTRAÇÃO  2015                 57\n",
       "5       ADMINISTRAÇÃO  2011                 56\n",
       "6       ADMINISTRAÇÃO  2018                 54\n",
       "7             DIREITO  2017                 53\n",
       "8       ADMINISTRAÇÃO  2012                 51\n",
       "9       ADMINISTRAÇÃO  2017                 45\n",
       "10      ADMINISTRAÇÃO  2013                 45\n",
       "11            DIREITO  2018                 44\n",
       "12            DIREITO  2014                 41\n",
       "13      ADMINISTRAÇÃO  2010                 39\n",
       "14  COMÉRCIO EXTERIOR  2015                 36"
      ]
     },
     "execution_count": 507,
     "metadata": {},
     "output_type": "execute_result"
    }
   ],
   "source": [
    "df_curso_santos = df_curso_santos.rename(columns = {'NOME_CURSO_BOLSA':'NOME_CURSO_BOLSA', \n",
    "                                  'ANO_CONCESSAO_BOLSA':'ANO',\n",
    "                                   0:'QUANTIDADE_BOLSAS'})\n",
    "df_curso_santos.head(15)"
   ]
  },
  {
   "cell_type": "code",
   "execution_count": 508,
   "metadata": {},
   "outputs": [
    {
     "ename": "KeyError",
     "evalue": "'NOME_CURSO_BOLSA'",
     "output_type": "error",
     "traceback": [
      "\u001b[1;31m---------------------------------------------------------------------------\u001b[0m",
      "\u001b[1;31mKeyError\u001b[0m                                  Traceback (most recent call last)",
      "\u001b[1;32m~\\Anaconda3\\lib\\site-packages\\pandas\\core\\indexes\\base.py\u001b[0m in \u001b[0;36mget_loc\u001b[1;34m(self, key, method, tolerance)\u001b[0m\n\u001b[0;32m   3077\u001b[0m             \u001b[1;32mtry\u001b[0m\u001b[1;33m:\u001b[0m\u001b[1;33m\u001b[0m\u001b[1;33m\u001b[0m\u001b[0m\n\u001b[1;32m-> 3078\u001b[1;33m                 \u001b[1;32mreturn\u001b[0m \u001b[0mself\u001b[0m\u001b[1;33m.\u001b[0m\u001b[0m_engine\u001b[0m\u001b[1;33m.\u001b[0m\u001b[0mget_loc\u001b[0m\u001b[1;33m(\u001b[0m\u001b[0mkey\u001b[0m\u001b[1;33m)\u001b[0m\u001b[1;33m\u001b[0m\u001b[1;33m\u001b[0m\u001b[0m\n\u001b[0m\u001b[0;32m   3079\u001b[0m             \u001b[1;32mexcept\u001b[0m \u001b[0mKeyError\u001b[0m\u001b[1;33m:\u001b[0m\u001b[1;33m\u001b[0m\u001b[1;33m\u001b[0m\u001b[0m\n",
      "\u001b[1;32mpandas\\_libs\\index.pyx\u001b[0m in \u001b[0;36mpandas._libs.index.IndexEngine.get_loc\u001b[1;34m()\u001b[0m\n",
      "\u001b[1;32mpandas\\_libs\\index.pyx\u001b[0m in \u001b[0;36mpandas._libs.index.IndexEngine.get_loc\u001b[1;34m()\u001b[0m\n",
      "\u001b[1;32mpandas\\_libs\\hashtable_class_helper.pxi\u001b[0m in \u001b[0;36mpandas._libs.hashtable.PyObjectHashTable.get_item\u001b[1;34m()\u001b[0m\n",
      "\u001b[1;32mpandas\\_libs\\hashtable_class_helper.pxi\u001b[0m in \u001b[0;36mpandas._libs.hashtable.PyObjectHashTable.get_item\u001b[1;34m()\u001b[0m\n",
      "\u001b[1;31mKeyError\u001b[0m: 'NOME_CURSO_BOLSA'",
      "\nDuring handling of the above exception, another exception occurred:\n",
      "\u001b[1;31mKeyError\u001b[0m                                  Traceback (most recent call last)",
      "\u001b[1;32m<ipython-input-508-6d9bae024eb0>\u001b[0m in \u001b[0;36m<module>\u001b[1;34m\u001b[0m\n\u001b[0;32m      1\u001b[0m \u001b[1;31m# Converte o nome do curso para letras Maíusculas\u001b[0m\u001b[1;33m\u001b[0m\u001b[1;33m\u001b[0m\u001b[1;33m\u001b[0m\u001b[0m\n\u001b[1;32m----> 2\u001b[1;33m \u001b[0mdf_curso_santos\u001b[0m\u001b[1;33m[\u001b[0m\u001b[1;34m'CURSO'\u001b[0m\u001b[1;33m]\u001b[0m \u001b[1;33m=\u001b[0m \u001b[1;33m[\u001b[0m\u001b[0mx\u001b[0m\u001b[1;33m.\u001b[0m\u001b[0mupper\u001b[0m\u001b[1;33m(\u001b[0m\u001b[1;33m)\u001b[0m \u001b[1;32mfor\u001b[0m \u001b[0mx\u001b[0m \u001b[1;32min\u001b[0m \u001b[0mdf_curso_santos\u001b[0m\u001b[1;33m[\u001b[0m\u001b[1;34m'NOME_CURSO_BOLSA'\u001b[0m\u001b[1;33m]\u001b[0m\u001b[1;33m]\u001b[0m\u001b[1;33m\u001b[0m\u001b[1;33m\u001b[0m\u001b[0m\n\u001b[0m\u001b[0;32m      3\u001b[0m \u001b[0mdf_curso_santos\u001b[0m\u001b[1;33m.\u001b[0m\u001b[0mhead\u001b[0m\u001b[1;33m(\u001b[0m\u001b[1;36m15\u001b[0m\u001b[1;33m)\u001b[0m\u001b[1;33m\u001b[0m\u001b[1;33m\u001b[0m\u001b[0m\n",
      "\u001b[1;32m~\\Anaconda3\\lib\\site-packages\\pandas\\core\\frame.py\u001b[0m in \u001b[0;36m__getitem__\u001b[1;34m(self, key)\u001b[0m\n\u001b[0;32m   2686\u001b[0m             \u001b[1;32mreturn\u001b[0m \u001b[0mself\u001b[0m\u001b[1;33m.\u001b[0m\u001b[0m_getitem_multilevel\u001b[0m\u001b[1;33m(\u001b[0m\u001b[0mkey\u001b[0m\u001b[1;33m)\u001b[0m\u001b[1;33m\u001b[0m\u001b[1;33m\u001b[0m\u001b[0m\n\u001b[0;32m   2687\u001b[0m         \u001b[1;32melse\u001b[0m\u001b[1;33m:\u001b[0m\u001b[1;33m\u001b[0m\u001b[1;33m\u001b[0m\u001b[0m\n\u001b[1;32m-> 2688\u001b[1;33m             \u001b[1;32mreturn\u001b[0m \u001b[0mself\u001b[0m\u001b[1;33m.\u001b[0m\u001b[0m_getitem_column\u001b[0m\u001b[1;33m(\u001b[0m\u001b[0mkey\u001b[0m\u001b[1;33m)\u001b[0m\u001b[1;33m\u001b[0m\u001b[1;33m\u001b[0m\u001b[0m\n\u001b[0m\u001b[0;32m   2689\u001b[0m \u001b[1;33m\u001b[0m\u001b[0m\n\u001b[0;32m   2690\u001b[0m     \u001b[1;32mdef\u001b[0m \u001b[0m_getitem_column\u001b[0m\u001b[1;33m(\u001b[0m\u001b[0mself\u001b[0m\u001b[1;33m,\u001b[0m \u001b[0mkey\u001b[0m\u001b[1;33m)\u001b[0m\u001b[1;33m:\u001b[0m\u001b[1;33m\u001b[0m\u001b[1;33m\u001b[0m\u001b[0m\n",
      "\u001b[1;32m~\\Anaconda3\\lib\\site-packages\\pandas\\core\\frame.py\u001b[0m in \u001b[0;36m_getitem_column\u001b[1;34m(self, key)\u001b[0m\n\u001b[0;32m   2693\u001b[0m         \u001b[1;31m# get column\u001b[0m\u001b[1;33m\u001b[0m\u001b[1;33m\u001b[0m\u001b[1;33m\u001b[0m\u001b[0m\n\u001b[0;32m   2694\u001b[0m         \u001b[1;32mif\u001b[0m \u001b[0mself\u001b[0m\u001b[1;33m.\u001b[0m\u001b[0mcolumns\u001b[0m\u001b[1;33m.\u001b[0m\u001b[0mis_unique\u001b[0m\u001b[1;33m:\u001b[0m\u001b[1;33m\u001b[0m\u001b[1;33m\u001b[0m\u001b[0m\n\u001b[1;32m-> 2695\u001b[1;33m             \u001b[1;32mreturn\u001b[0m \u001b[0mself\u001b[0m\u001b[1;33m.\u001b[0m\u001b[0m_get_item_cache\u001b[0m\u001b[1;33m(\u001b[0m\u001b[0mkey\u001b[0m\u001b[1;33m)\u001b[0m\u001b[1;33m\u001b[0m\u001b[1;33m\u001b[0m\u001b[0m\n\u001b[0m\u001b[0;32m   2696\u001b[0m \u001b[1;33m\u001b[0m\u001b[0m\n\u001b[0;32m   2697\u001b[0m         \u001b[1;31m# duplicate columns & possible reduce dimensionality\u001b[0m\u001b[1;33m\u001b[0m\u001b[1;33m\u001b[0m\u001b[1;33m\u001b[0m\u001b[0m\n",
      "\u001b[1;32m~\\Anaconda3\\lib\\site-packages\\pandas\\core\\generic.py\u001b[0m in \u001b[0;36m_get_item_cache\u001b[1;34m(self, item)\u001b[0m\n\u001b[0;32m   2487\u001b[0m         \u001b[0mres\u001b[0m \u001b[1;33m=\u001b[0m \u001b[0mcache\u001b[0m\u001b[1;33m.\u001b[0m\u001b[0mget\u001b[0m\u001b[1;33m(\u001b[0m\u001b[0mitem\u001b[0m\u001b[1;33m)\u001b[0m\u001b[1;33m\u001b[0m\u001b[1;33m\u001b[0m\u001b[0m\n\u001b[0;32m   2488\u001b[0m         \u001b[1;32mif\u001b[0m \u001b[0mres\u001b[0m \u001b[1;32mis\u001b[0m \u001b[1;32mNone\u001b[0m\u001b[1;33m:\u001b[0m\u001b[1;33m\u001b[0m\u001b[1;33m\u001b[0m\u001b[0m\n\u001b[1;32m-> 2489\u001b[1;33m             \u001b[0mvalues\u001b[0m \u001b[1;33m=\u001b[0m \u001b[0mself\u001b[0m\u001b[1;33m.\u001b[0m\u001b[0m_data\u001b[0m\u001b[1;33m.\u001b[0m\u001b[0mget\u001b[0m\u001b[1;33m(\u001b[0m\u001b[0mitem\u001b[0m\u001b[1;33m)\u001b[0m\u001b[1;33m\u001b[0m\u001b[1;33m\u001b[0m\u001b[0m\n\u001b[0m\u001b[0;32m   2490\u001b[0m             \u001b[0mres\u001b[0m \u001b[1;33m=\u001b[0m \u001b[0mself\u001b[0m\u001b[1;33m.\u001b[0m\u001b[0m_box_item_values\u001b[0m\u001b[1;33m(\u001b[0m\u001b[0mitem\u001b[0m\u001b[1;33m,\u001b[0m \u001b[0mvalues\u001b[0m\u001b[1;33m)\u001b[0m\u001b[1;33m\u001b[0m\u001b[1;33m\u001b[0m\u001b[0m\n\u001b[0;32m   2491\u001b[0m             \u001b[0mcache\u001b[0m\u001b[1;33m[\u001b[0m\u001b[0mitem\u001b[0m\u001b[1;33m]\u001b[0m \u001b[1;33m=\u001b[0m \u001b[0mres\u001b[0m\u001b[1;33m\u001b[0m\u001b[1;33m\u001b[0m\u001b[0m\n",
      "\u001b[1;32m~\\Anaconda3\\lib\\site-packages\\pandas\\core\\internals.py\u001b[0m in \u001b[0;36mget\u001b[1;34m(self, item, fastpath)\u001b[0m\n\u001b[0;32m   4113\u001b[0m \u001b[1;33m\u001b[0m\u001b[0m\n\u001b[0;32m   4114\u001b[0m             \u001b[1;32mif\u001b[0m \u001b[1;32mnot\u001b[0m \u001b[0misna\u001b[0m\u001b[1;33m(\u001b[0m\u001b[0mitem\u001b[0m\u001b[1;33m)\u001b[0m\u001b[1;33m:\u001b[0m\u001b[1;33m\u001b[0m\u001b[1;33m\u001b[0m\u001b[0m\n\u001b[1;32m-> 4115\u001b[1;33m                 \u001b[0mloc\u001b[0m \u001b[1;33m=\u001b[0m \u001b[0mself\u001b[0m\u001b[1;33m.\u001b[0m\u001b[0mitems\u001b[0m\u001b[1;33m.\u001b[0m\u001b[0mget_loc\u001b[0m\u001b[1;33m(\u001b[0m\u001b[0mitem\u001b[0m\u001b[1;33m)\u001b[0m\u001b[1;33m\u001b[0m\u001b[1;33m\u001b[0m\u001b[0m\n\u001b[0m\u001b[0;32m   4116\u001b[0m             \u001b[1;32melse\u001b[0m\u001b[1;33m:\u001b[0m\u001b[1;33m\u001b[0m\u001b[1;33m\u001b[0m\u001b[0m\n\u001b[0;32m   4117\u001b[0m                 \u001b[0mindexer\u001b[0m \u001b[1;33m=\u001b[0m \u001b[0mnp\u001b[0m\u001b[1;33m.\u001b[0m\u001b[0marange\u001b[0m\u001b[1;33m(\u001b[0m\u001b[0mlen\u001b[0m\u001b[1;33m(\u001b[0m\u001b[0mself\u001b[0m\u001b[1;33m.\u001b[0m\u001b[0mitems\u001b[0m\u001b[1;33m)\u001b[0m\u001b[1;33m)\u001b[0m\u001b[1;33m[\u001b[0m\u001b[0misna\u001b[0m\u001b[1;33m(\u001b[0m\u001b[0mself\u001b[0m\u001b[1;33m.\u001b[0m\u001b[0mitems\u001b[0m\u001b[1;33m)\u001b[0m\u001b[1;33m]\u001b[0m\u001b[1;33m\u001b[0m\u001b[1;33m\u001b[0m\u001b[0m\n",
      "\u001b[1;32m~\\Anaconda3\\lib\\site-packages\\pandas\\core\\indexes\\base.py\u001b[0m in \u001b[0;36mget_loc\u001b[1;34m(self, key, method, tolerance)\u001b[0m\n\u001b[0;32m   3078\u001b[0m                 \u001b[1;32mreturn\u001b[0m \u001b[0mself\u001b[0m\u001b[1;33m.\u001b[0m\u001b[0m_engine\u001b[0m\u001b[1;33m.\u001b[0m\u001b[0mget_loc\u001b[0m\u001b[1;33m(\u001b[0m\u001b[0mkey\u001b[0m\u001b[1;33m)\u001b[0m\u001b[1;33m\u001b[0m\u001b[1;33m\u001b[0m\u001b[0m\n\u001b[0;32m   3079\u001b[0m             \u001b[1;32mexcept\u001b[0m \u001b[0mKeyError\u001b[0m\u001b[1;33m:\u001b[0m\u001b[1;33m\u001b[0m\u001b[1;33m\u001b[0m\u001b[0m\n\u001b[1;32m-> 3080\u001b[1;33m                 \u001b[1;32mreturn\u001b[0m \u001b[0mself\u001b[0m\u001b[1;33m.\u001b[0m\u001b[0m_engine\u001b[0m\u001b[1;33m.\u001b[0m\u001b[0mget_loc\u001b[0m\u001b[1;33m(\u001b[0m\u001b[0mself\u001b[0m\u001b[1;33m.\u001b[0m\u001b[0m_maybe_cast_indexer\u001b[0m\u001b[1;33m(\u001b[0m\u001b[0mkey\u001b[0m\u001b[1;33m)\u001b[0m\u001b[1;33m)\u001b[0m\u001b[1;33m\u001b[0m\u001b[1;33m\u001b[0m\u001b[0m\n\u001b[0m\u001b[0;32m   3081\u001b[0m \u001b[1;33m\u001b[0m\u001b[0m\n\u001b[0;32m   3082\u001b[0m         \u001b[0mindexer\u001b[0m \u001b[1;33m=\u001b[0m \u001b[0mself\u001b[0m\u001b[1;33m.\u001b[0m\u001b[0mget_indexer\u001b[0m\u001b[1;33m(\u001b[0m\u001b[1;33m[\u001b[0m\u001b[0mkey\u001b[0m\u001b[1;33m]\u001b[0m\u001b[1;33m,\u001b[0m \u001b[0mmethod\u001b[0m\u001b[1;33m=\u001b[0m\u001b[0mmethod\u001b[0m\u001b[1;33m,\u001b[0m \u001b[0mtolerance\u001b[0m\u001b[1;33m=\u001b[0m\u001b[0mtolerance\u001b[0m\u001b[1;33m)\u001b[0m\u001b[1;33m\u001b[0m\u001b[1;33m\u001b[0m\u001b[0m\n",
      "\u001b[1;32mpandas\\_libs\\index.pyx\u001b[0m in \u001b[0;36mpandas._libs.index.IndexEngine.get_loc\u001b[1;34m()\u001b[0m\n",
      "\u001b[1;32mpandas\\_libs\\index.pyx\u001b[0m in \u001b[0;36mpandas._libs.index.IndexEngine.get_loc\u001b[1;34m()\u001b[0m\n",
      "\u001b[1;32mpandas\\_libs\\hashtable_class_helper.pxi\u001b[0m in \u001b[0;36mpandas._libs.hashtable.PyObjectHashTable.get_item\u001b[1;34m()\u001b[0m\n",
      "\u001b[1;32mpandas\\_libs\\hashtable_class_helper.pxi\u001b[0m in \u001b[0;36mpandas._libs.hashtable.PyObjectHashTable.get_item\u001b[1;34m()\u001b[0m\n",
      "\u001b[1;31mKeyError\u001b[0m: 'NOME_CURSO_BOLSA'"
     ]
    }
   ],
   "source": [
    "# Converte o nome do curso para letras Maíusculas \n",
    "df_curso_santos['CURSO'] = [x.upper() for x in df_curso_santos['NOME_CURSO_BOLSA']]\n",
    "df_curso_santos.head(15)"
   ]
  },
  {
   "cell_type": "code",
   "execution_count": 510,
   "metadata": {},
   "outputs": [
    {
     "data": {
      "text/html": [
       "<div>\n",
       "<style scoped>\n",
       "    .dataframe tbody tr th:only-of-type {\n",
       "        vertical-align: middle;\n",
       "    }\n",
       "\n",
       "    .dataframe tbody tr th {\n",
       "        vertical-align: top;\n",
       "    }\n",
       "\n",
       "    .dataframe thead th {\n",
       "        text-align: right;\n",
       "    }\n",
       "</style>\n",
       "<table border=\"1\" class=\"dataframe\">\n",
       "  <thead>\n",
       "    <tr style=\"text-align: right;\">\n",
       "      <th></th>\n",
       "      <th>CURSO</th>\n",
       "      <th>ANO</th>\n",
       "      <th>QUANTIDADE_BOLSAS</th>\n",
       "    </tr>\n",
       "  </thead>\n",
       "  <tbody>\n",
       "    <tr>\n",
       "      <th>0</th>\n",
       "      <td>DIREITO</td>\n",
       "      <td>2016</td>\n",
       "      <td>69</td>\n",
       "    </tr>\n",
       "    <tr>\n",
       "      <th>2</th>\n",
       "      <td>DIREITO</td>\n",
       "      <td>2015</td>\n",
       "      <td>61</td>\n",
       "    </tr>\n",
       "    <tr>\n",
       "      <th>1</th>\n",
       "      <td>ADMINISTRAÇÃO</td>\n",
       "      <td>2016</td>\n",
       "      <td>61</td>\n",
       "    </tr>\n",
       "    <tr>\n",
       "      <th>3</th>\n",
       "      <td>ADMINISTRAÇÃO</td>\n",
       "      <td>2014</td>\n",
       "      <td>58</td>\n",
       "    </tr>\n",
       "    <tr>\n",
       "      <th>4</th>\n",
       "      <td>ADMINISTRAÇÃO</td>\n",
       "      <td>2015</td>\n",
       "      <td>57</td>\n",
       "    </tr>\n",
       "    <tr>\n",
       "      <th>5</th>\n",
       "      <td>ADMINISTRAÇÃO</td>\n",
       "      <td>2011</td>\n",
       "      <td>56</td>\n",
       "    </tr>\n",
       "    <tr>\n",
       "      <th>6</th>\n",
       "      <td>ADMINISTRAÇÃO</td>\n",
       "      <td>2018</td>\n",
       "      <td>54</td>\n",
       "    </tr>\n",
       "    <tr>\n",
       "      <th>7</th>\n",
       "      <td>DIREITO</td>\n",
       "      <td>2017</td>\n",
       "      <td>53</td>\n",
       "    </tr>\n",
       "    <tr>\n",
       "      <th>8</th>\n",
       "      <td>ADMINISTRAÇÃO</td>\n",
       "      <td>2012</td>\n",
       "      <td>51</td>\n",
       "    </tr>\n",
       "    <tr>\n",
       "      <th>9</th>\n",
       "      <td>ADMINISTRAÇÃO</td>\n",
       "      <td>2017</td>\n",
       "      <td>45</td>\n",
       "    </tr>\n",
       "    <tr>\n",
       "      <th>10</th>\n",
       "      <td>ADMINISTRAÇÃO</td>\n",
       "      <td>2013</td>\n",
       "      <td>45</td>\n",
       "    </tr>\n",
       "    <tr>\n",
       "      <th>11</th>\n",
       "      <td>DIREITO</td>\n",
       "      <td>2018</td>\n",
       "      <td>44</td>\n",
       "    </tr>\n",
       "    <tr>\n",
       "      <th>12</th>\n",
       "      <td>DIREITO</td>\n",
       "      <td>2014</td>\n",
       "      <td>41</td>\n",
       "    </tr>\n",
       "    <tr>\n",
       "      <th>13</th>\n",
       "      <td>ADMINISTRAÇÃO</td>\n",
       "      <td>2010</td>\n",
       "      <td>39</td>\n",
       "    </tr>\n",
       "    <tr>\n",
       "      <th>14</th>\n",
       "      <td>COMÉRCIO EXTERIOR</td>\n",
       "      <td>2015</td>\n",
       "      <td>36</td>\n",
       "    </tr>\n",
       "    <tr>\n",
       "      <th>15</th>\n",
       "      <td>COMÉRCIO EXTERIOR</td>\n",
       "      <td>2014</td>\n",
       "      <td>35</td>\n",
       "    </tr>\n",
       "    <tr>\n",
       "      <th>16</th>\n",
       "      <td>COMÉRCIO EXTERIOR</td>\n",
       "      <td>2012</td>\n",
       "      <td>33</td>\n",
       "    </tr>\n",
       "    <tr>\n",
       "      <th>18</th>\n",
       "      <td>ENGENHARIA CIVIL</td>\n",
       "      <td>2014</td>\n",
       "      <td>31</td>\n",
       "    </tr>\n",
       "    <tr>\n",
       "      <th>17</th>\n",
       "      <td>ENGENHARIA CIVIL</td>\n",
       "      <td>2015</td>\n",
       "      <td>31</td>\n",
       "    </tr>\n",
       "    <tr>\n",
       "      <th>19</th>\n",
       "      <td>CIÊNCIAS CONTÁBEIS</td>\n",
       "      <td>2016</td>\n",
       "      <td>30</td>\n",
       "    </tr>\n",
       "  </tbody>\n",
       "</table>\n",
       "</div>"
      ],
      "text/plain": [
       "                 CURSO   ANO  QUANTIDADE_BOLSAS\n",
       "0              DIREITO  2016                 69\n",
       "2              DIREITO  2015                 61\n",
       "1        ADMINISTRAÇÃO  2016                 61\n",
       "3        ADMINISTRAÇÃO  2014                 58\n",
       "4        ADMINISTRAÇÃO  2015                 57\n",
       "5        ADMINISTRAÇÃO  2011                 56\n",
       "6        ADMINISTRAÇÃO  2018                 54\n",
       "7              DIREITO  2017                 53\n",
       "8        ADMINISTRAÇÃO  2012                 51\n",
       "9        ADMINISTRAÇÃO  2017                 45\n",
       "10       ADMINISTRAÇÃO  2013                 45\n",
       "11             DIREITO  2018                 44\n",
       "12             DIREITO  2014                 41\n",
       "13       ADMINISTRAÇÃO  2010                 39\n",
       "14   COMÉRCIO EXTERIOR  2015                 36\n",
       "15   COMÉRCIO EXTERIOR  2014                 35\n",
       "16   COMÉRCIO EXTERIOR  2012                 33\n",
       "18    ENGENHARIA CIVIL  2014                 31\n",
       "17    ENGENHARIA CIVIL  2015                 31\n",
       "19  CIÊNCIAS CONTÁBEIS  2016                 30"
      ]
     },
     "execution_count": 510,
     "metadata": {},
     "output_type": "execute_result"
    }
   ],
   "source": [
    "# Criação do Subset tratado com dos dados de cursos por ano e no munícipio de Santos\n",
    "\n",
    "df_cursos = df_curso_santos[['CURSO','ANO','QUANTIDADE_BOLSAS']]   \n",
    "df_curso_santos = df_cursos.sort_values('QUANTIDADE_BOLSAS', ascending = False)\n",
    "df_curso_santos.head(20)"
   ]
  },
  {
   "cell_type": "code",
   "execution_count": 512,
   "metadata": {},
   "outputs": [],
   "source": [
    "# Identifica qual é o curso com mais bolsas no municipio de Santos \n",
    "\n",
    "df_direito = df_cursos[df_cursos.CURSO == 'DIREITO'] \n",
    "df_agg_direito = df_direito.groupby('CURSO').sum()\n",
    "\n",
    "df_adm = df_cursos[df_cursos.CURSO == 'ADMINISTRAÇÃO']\n",
    "df_agg_adm = df_adm.groupby('CURSO').sum()\n"
   ]
  },
  {
   "cell_type": "code",
   "execution_count": 516,
   "metadata": {},
   "outputs": [],
   "source": [
    "# Concatena os subsets de Direito e Adminstração \n",
    "df_bolsas = pd.concat([df_agg_direito[['QUANTIDADE_BOLSAS']],df_agg_adm[['QUANTIDADE_BOLSAS']]])"
   ]
  },
  {
   "cell_type": "code",
   "execution_count": 522,
   "metadata": {},
   "outputs": [
    {
     "data": {
      "text/html": [
       "<div>\n",
       "<style scoped>\n",
       "    .dataframe tbody tr th:only-of-type {\n",
       "        vertical-align: middle;\n",
       "    }\n",
       "\n",
       "    .dataframe tbody tr th {\n",
       "        vertical-align: top;\n",
       "    }\n",
       "\n",
       "    .dataframe thead th {\n",
       "        text-align: right;\n",
       "    }\n",
       "</style>\n",
       "<table border=\"1\" class=\"dataframe\">\n",
       "  <thead>\n",
       "    <tr style=\"text-align: right;\">\n",
       "      <th></th>\n",
       "      <th>QUANTIDADE_BOLSAS</th>\n",
       "    </tr>\n",
       "    <tr>\n",
       "      <th>CURSO</th>\n",
       "      <th></th>\n",
       "    </tr>\n",
       "  </thead>\n",
       "  <tbody>\n",
       "    <tr>\n",
       "      <th>ADMINISTRAÇÃO</th>\n",
       "      <td>466</td>\n",
       "    </tr>\n",
       "    <tr>\n",
       "      <th>DIREITO</th>\n",
       "      <td>366</td>\n",
       "    </tr>\n",
       "  </tbody>\n",
       "</table>\n",
       "</div>"
      ],
      "text/plain": [
       "               QUANTIDADE_BOLSAS\n",
       "CURSO                           \n",
       "ADMINISTRAÇÃO                466\n",
       "DIREITO                      366"
      ]
     },
     "execution_count": 522,
     "metadata": {},
     "output_type": "execute_result"
    }
   ],
   "source": [
    "#Apresenta a base concatenada\n",
    "df_bolsas.sort_values('QUANTIDADE_BOLSAS', ascending = False)"
   ]
  },
  {
   "cell_type": "markdown",
   "metadata": {},
   "source": [
    "### Relação entre o número de bolsas concedidas e bolsas para a um curso específico"
   ]
  },
  {
   "cell_type": "markdown",
   "metadata": {},
   "source": [
    "### Implementação de Modelo de Machine Learning : Regressão Linear"
   ]
  },
  {
   "cell_type": "markdown",
   "metadata": {},
   "source": [
    "### <font color='blue'>Dos conjunto de técnicas de regressão, a regressão linear é a mais simples em análises de dados que procuram entender a relação entre o comportamento de determinado fenômeno e o comportamento de uma variávvel, sem que haja, entretanto uma obrigatória relação de causa e efeito.</font>"
   ]
  },
  {
   "cell_type": "markdown",
   "metadata": {},
   "source": [
    "### 1º Passo verificar a relação entre as variáveis por meio do Gráfico de Dispersão"
   ]
  },
  {
   "cell_type": "markdown",
   "metadata": {},
   "source": [
    "### Curso de Administração "
   ]
  },
  {
   "cell_type": "code",
   "execution_count": 591,
   "metadata": {},
   "outputs": [
    {
     "data": {
      "text/plain": [
       "<matplotlib.collections.PathCollection at 0x1d806cdd6d8>"
      ]
     },
     "execution_count": 591,
     "metadata": {},
     "output_type": "execute_result"
    },
    {
     "data": {
      "image/png": "[encoded data removed]",
      "text/plain": [
       "<Figure size 432x288 with 1 Axes>"
      ]
     },
     "metadata": {
      "needs_background": "light"
     },
     "output_type": "display_data"
    }
   ],
   "source": [
    "# Scatter Plot representando a dispersão dos dados \n",
    "x = df_santos_ano.values                  # Eixo x do gráfico: Número de bolsas por ano no município de Santos \n",
    "\n",
    "df_adm  = df_adm .sort_values('ANO')      # Eixo y do gráfico: Número de bolsa por ano para o curso de Administração\n",
    "y = df_adm ['QUANTIDADE_BOLSAS']\n",
    "\n",
    "plt.scatter(x, y,  color = 'black')"
   ]
  },
  {
   "cell_type": "markdown",
   "metadata": {},
   "source": [
    "### Curso de Direito"
   ]
  },
  {
   "cell_type": "code",
   "execution_count": 600,
   "metadata": {},
   "outputs": [
    {
     "data": {
      "text/plain": [
       "<matplotlib.collections.PathCollection at 0x1d806849438>"
      ]
     },
     "execution_count": 600,
     "metadata": {},
     "output_type": "execute_result"
    },
    {
     "data": {
      "image/png": "[encoded data removed]",
      "text/plain": [
       "<Figure size 432x288 with 1 Axes>"
      ]
     },
     "metadata": {
      "needs_background": "light"
     },
     "output_type": "display_data"
    }
   ],
   "source": [
    "# Scatter Plot representando a dispersão dos dados \n",
    "x = df_santos_ano.values                           # Eixo x do gráfico: Número de bolsas por ano no município de Santos \n",
    "\n",
    "df_direito  = df_direito.sort_values('ANO')        # Eixo y do gráfico: Número de bolsa por ano para o curso de Direito\n",
    "y = df_direito['QUANTIDADE_BOLSAS']\n",
    "\n",
    "plt.scatter(x, y,  color = 'blue')"
   ]
  },
  {
   "cell_type": "markdown",
   "metadata": {},
   "source": [
    "### 2º Passo Traçar a Reta de Projeção"
   ]
  },
  {
   "cell_type": "markdown",
   "metadata": {},
   "source": [
    "## Pacote StatsModel "
   ]
  },
  {
   "cell_type": "code",
   "execution_count": 605,
   "metadata": {},
   "outputs": [
    {
     "data": {
      "text/plain": [
       "[<matplotlib.lines.Line2D at 0x1d80051b8d0>]"
      ]
     },
     "execution_count": 605,
     "metadata": {},
     "output_type": "execute_result"
    },
    {
     "data": {
      "image/png": "[encoded data removed]",
      "text/plain": [
       "<Figure size 432x288 with 1 Axes>"
      ]
     },
     "metadata": {
      "needs_background": "light"
     },
     "output_type": "display_data"
    }
   ],
   "source": [
    "# Implementação como StatsModel \n",
    "\n",
    "# Traço da Reta de projeção para o curso de Admnistração \n",
    "plt.scatter(x, y,  color = 'blue')\n",
    "\n",
    "# Identificação da variável independente: Número de bolsas \n",
    "X_sm = sm.add_constant(x)\n",
    "\n",
    "# OLS vem de Ordinary Least Squares e o método fit irá treinar o modelo\n",
    "# Variável dependente: Número de bolsas do curso\n",
    "results = sm.OLS(y, X_sm).fit()\n",
    "plt.plot(x, results.predict(X_sm), color = 'red', linewidth = 1)"
   ]
  },
  {
   "cell_type": "code",
   "execution_count": 601,
   "metadata": {},
   "outputs": [
    {
     "data": {
      "text/plain": [
       "[<matplotlib.lines.Line2D at 0x1d806839a58>]"
      ]
     },
     "execution_count": 601,
     "metadata": {},
     "output_type": "execute_result"
    },
    {
     "data": {
      "image/png": "[encoded data removed]",
      "text/plain": [
       "<Figure size 432x288 with 1 Axes>"
      ]
     },
     "metadata": {
      "needs_background": "light"
     },
     "output_type": "display_data"
    }
   ],
   "source": [
    "\n",
    "# Traço da Reta de projeção para o curso de Admnistração \n",
    "plt.scatter(x, y,  color = 'blue')\n",
    "\n",
    "# Identificação da variável independente: Número de bolsas \n",
    "X_sm = sm.add_constant(x)\n",
    "\n",
    "# OLS vem de Ordinary Least Squares e o método fit irá treinar o modelo\n",
    "# Variável dependente: Número de bolsas do curso\n",
    "results = sm.OLS(y, X_sm).fit()\n",
    "plt.plot(x, results.predict(X_sm), color = 'red', linewidth = 1)"
   ]
  },
  {
   "cell_type": "code",
   "execution_count": 595,
   "metadata": {},
   "outputs": [
    {
     "data": {
      "text/html": [
       "<table class=\"simpletable\">\n",
       "<caption>OLS Regression Results</caption>\n",
       "<tr>\n",
       "  <th>Dep. Variable:</th>    <td>QUANTIDADE_BOLSAS</td> <th>  R-squared:         </th> <td>   0.306</td>\n",
       "</tr>\n",
       "<tr>\n",
       "  <th>Model:</th>                   <td>OLS</td>        <th>  Adj. R-squared:    </th> <td>   0.206</td>\n",
       "</tr>\n",
       "<tr>\n",
       "  <th>Method:</th>             <td>Least Squares</td>   <th>  F-statistic:       </th> <td>   3.082</td>\n",
       "</tr>\n",
       "<tr>\n",
       "  <th>Date:</th>             <td>Thu, 07 Mar 2019</td>  <th>  Prob (F-statistic):</th>  <td> 0.123</td> \n",
       "</tr>\n",
       "<tr>\n",
       "  <th>Time:</th>                 <td>11:34:50</td>      <th>  Log-Likelihood:    </th> <td> -28.524</td>\n",
       "</tr>\n",
       "<tr>\n",
       "  <th>No. Observations:</th>      <td>     9</td>       <th>  AIC:               </th> <td>   61.05</td>\n",
       "</tr>\n",
       "<tr>\n",
       "  <th>Df Residuals:</th>          <td>     7</td>       <th>  BIC:               </th> <td>   61.44</td>\n",
       "</tr>\n",
       "<tr>\n",
       "  <th>Df Model:</th>              <td>     1</td>       <th>                     </th>     <td> </td>   \n",
       "</tr>\n",
       "<tr>\n",
       "  <th>Covariance Type:</th>      <td>nonrobust</td>     <th>                     </th>     <td> </td>   \n",
       "</tr>\n",
       "</table>\n",
       "<table class=\"simpletable\">\n",
       "<tr>\n",
       "    <td></td>       <th>coef</th>     <th>std err</th>      <th>t</th>      <th>P>|t|</th>  <th>[0.025</th>    <th>0.975]</th>  \n",
       "</tr>\n",
       "<tr>\n",
       "  <th>const</th> <td>   36.7200</td> <td>    8.849</td> <td>    4.150</td> <td> 0.004</td> <td>   15.795</td> <td>   57.645</td>\n",
       "</tr>\n",
       "<tr>\n",
       "  <th>x1</th>    <td>    0.0327</td> <td>    0.019</td> <td>    1.756</td> <td> 0.123</td> <td>   -0.011</td> <td>    0.077</td>\n",
       "</tr>\n",
       "</table>\n",
       "<table class=\"simpletable\">\n",
       "<tr>\n",
       "  <th>Omnibus:</th>       <td> 1.385</td> <th>  Durbin-Watson:     </th> <td>   2.656</td>\n",
       "</tr>\n",
       "<tr>\n",
       "  <th>Prob(Omnibus):</th> <td> 0.500</td> <th>  Jarque-Bera (JB):  </th> <td>   0.883</td>\n",
       "</tr>\n",
       "<tr>\n",
       "  <th>Skew:</th>          <td>-0.685</td> <th>  Prob(JB):          </th> <td>   0.643</td>\n",
       "</tr>\n",
       "<tr>\n",
       "  <th>Kurtosis:</th>      <td> 2.309</td> <th>  Cond. No.          </th> <td>1.93e+03</td>\n",
       "</tr>\n",
       "</table><br/><br/>Warnings:<br/>[1] Standard Errors assume that the covariance matrix of the errors is correctly specified.<br/>[2] The condition number is large, 1.93e+03. This might indicate that there are<br/>strong multicollinearity or other numerical problems."
      ],
      "text/plain": [
       "<class 'statsmodels.iolib.summary.Summary'>\n",
       "\"\"\"\n",
       "                            OLS Regression Results                            \n",
       "==============================================================================\n",
       "Dep. Variable:      QUANTIDADE_BOLSAS   R-squared:                       0.306\n",
       "Model:                            OLS   Adj. R-squared:                  0.206\n",
       "Method:                 Least Squares   F-statistic:                     3.082\n",
       "Date:                Thu, 07 Mar 2019   Prob (F-statistic):              0.123\n",
       "Time:                        11:34:50   Log-Likelihood:                -28.524\n",
       "No. Observations:                   9   AIC:                             61.05\n",
       "Df Residuals:                       7   BIC:                             61.44\n",
       "Df Model:                           1                                         \n",
       "Covariance Type:            nonrobust                                         \n",
       "==============================================================================\n",
       "                 coef    std err          t      P>|t|      [0.025      0.975]\n",
       "------------------------------------------------------------------------------\n",
       "const         36.7200      8.849      4.150      0.004      15.795      57.645\n",
       "x1             0.0327      0.019      1.756      0.123      -0.011       0.077\n",
       "==============================================================================\n",
       "Omnibus:                        1.385   Durbin-Watson:                   2.656\n",
       "Prob(Omnibus):                  0.500   Jarque-Bera (JB):                0.883\n",
       "Skew:                          -0.685   Prob(JB):                        0.643\n",
       "Kurtosis:                       2.309   Cond. No.                     1.93e+03\n",
       "==============================================================================\n",
       "\n",
       "Warnings:\n",
       "[1] Standard Errors assume that the covariance matrix of the errors is correctly specified.\n",
       "[2] The condition number is large, 1.93e+03. This might indicate that there are\n",
       "strong multicollinearity or other numerical problems.\n",
       "\"\"\""
      ]
     },
     "execution_count": 595,
     "metadata": {},
     "output_type": "execute_result"
    }
   ],
   "source": [
    "### Dados estatísticos do Modelo de Dados \n",
    "results.summary()"
   ]
  },
  {
   "cell_type": "code",
   "execution_count": 596,
   "metadata": {},
   "outputs": [],
   "source": [
    "\n",
    "# mostrando as previsões para o mesmo conjunto passado\n",
    "# results.predict(X_sm)"
   ]
  },
  {
   "cell_type": "code",
   "execution_count": 480,
   "metadata": {},
   "outputs": [
    {
     "name": "stdout",
     "output_type": "stream",
     "text": [
      "Número de bolsas de direito 59\n"
     ]
    }
   ],
   "source": [
    "print(\"Número de bolsas de direito %.0f\" % results.predict([1, 598]))"
   ]
  },
  {
   "cell_type": "code",
   "execution_count": 369,
   "metadata": {},
   "outputs": [],
   "source": [
    "# Criando o modelo\n",
    "modelo = LinearRegression()"
   ]
  },
  {
   "cell_type": "code",
   "execution_count": 452,
   "metadata": {},
   "outputs": [
    {
     "data": {
      "image/png": "[encoded data removed]",
      "text/plain": [
       "<Figure size 432x288 with 1 Axes>"
      ]
     },
     "metadata": {
      "needs_background": "light"
     },
     "output_type": "display_data"
    }
   ],
   "source": [
    "# Treinando o modelo\n",
    "%matplotlib inline\n",
    "x = [[284], [367], [377], [362], [476], [596], [630], [598], [455]] # Números totais de bolsas por ano\n",
    "y = [[28], [28], [20], [22], [41], [61], [69], [53], [44]]          # Numeros de bolsa por ano do curso de direito\n",
    "\n",
    "modelo.fit(x,y)\n",
    "\n",
    "# modelo.predict(x)\n",
    "plt.scatter(x, y,  color = 'black')\n",
    "plt.plot(x, modelo.predict(x), color = 'blue', linewidth = 1)\n",
    "plt.xlabel('X')\n",
    "plt.ylabel('Y')\n",
    "plt.show()"
   ]
  },
  {
   "cell_type": "code",
   "execution_count": 477,
   "metadata": {},
   "outputs": [
    {
     "name": "stdout",
     "output_type": "stream",
     "text": [
      "Número de bolsas de direito 19\n"
     ]
    }
   ],
   "source": [
    "# Prevendo número de bolsa de direito em relação ao número de bolsas do Prouni\n",
    "print(\"Número de bolsas de direito %.0f\" % modelo.predict([[300]]))"
   ]
  },
  {
   "cell_type": "code",
   "execution_count": 463,
   "metadata": {},
   "outputs": [
    {
     "name": "stdout",
     "output_type": "stream",
     "text": [
      "Coeficiente: \n",
      " [[0.13208373]]\n",
      "MSE: 37.00\n",
      "Score de variação: 0.87\n"
     ]
    }
   ],
   "source": [
    "# Coeficientes\n",
    "print('Coeficiente: \\n', modelo.coef_)\n",
    "\n",
    "# MSE (mean square error)\n",
    "print(\"MSE: %.2f\" % np.mean((modelo.predict(x) - y) ** 2))\n",
    "\n",
    "# Score de variação: 1 representa predição perfeita\n",
    "print('Score de variação: %.2f' % modelo.score(x, y))"
   ]
  }
 ],
 "metadata": {
  "kernelspec": {
   "display_name": "Python 3",
   "language": "python",
   "name": "python3"
  },
  "language_info": {
   "codemirror_mode": {
    "name": "ipython",
    "version": 3
   },
   "file_extension": ".py",
   "mimetype": "text/x-python",
   "name": "python",
   "nbconvert_exporter": "python",
   "pygments_lexer": "ipython3",
   "version": "3.7.1"
  }
 },
 "nbformat": 4,
 "nbformat_minor": 2
}
